{
 "cells": [
  {
   "cell_type": "code",
   "execution_count": 1,
   "id": "6442ef00",
   "metadata": {},
   "outputs": [
    {
     "data": {
      "application/javascript": [
       "\n",
       "try {\n",
       "require(['notebook/js/codecell'], function(codecell) {\n",
       "  codecell.CodeCell.options_default.highlight_modes[\n",
       "      'magic_text/x-csrc'] = {'reg':[/^%%microblaze/]};\n",
       "  Jupyter.notebook.events.one('kernel_ready.Kernel', function(){\n",
       "      Jupyter.notebook.get_cells().map(function(cell){\n",
       "          if (cell.cell_type == 'code'){ cell.auto_highlight(); } }) ;\n",
       "  });\n",
       "});\n",
       "} catch (e) {};\n"
      ]
     },
     "metadata": {},
     "output_type": "display_data"
    },
    {
     "data": {
      "application/javascript": [
       "\n",
       "try {\n",
       "require(['notebook/js/codecell'], function(codecell) {\n",
       "  codecell.CodeCell.options_default.highlight_modes[\n",
       "      'magic_text/x-csrc'] = {'reg':[/^%%pybind11/]};\n",
       "  Jupyter.notebook.events.one('kernel_ready.Kernel', function(){\n",
       "      Jupyter.notebook.get_cells().map(function(cell){\n",
       "          if (cell.cell_type == 'code'){ cell.auto_highlight(); } }) ;\n",
       "  });\n",
       "});\n",
       "} catch (e) {};\n"
      ]
     },
     "metadata": {},
     "output_type": "display_data"
    }
   ],
   "source": [
    "import PyLidar3\n",
    "import os\n",
    "import re\n",
    "import csv\n",
    "import math\n",
    "import numpy as np\n",
    "from pynq import allocate\n",
    "from pynq import Overlay\n",
    "import matplotlib.pyplot as plt\n",
    "import matplotlib.lines as mlines\n",
    "import time\n",
    "\n",
    "ol = Overlay('/home/xilinx/pynq/overlays/clusterOp2/clusterOp2.bit')\n",
    "\n",
    "angle = np.arange(0, 360)\n",
    "distance = []\n",
    "\n",
    "\n",
    "#port = \"/dev/ttyUSB0\" #linux\n",
    "#Obj = PyLidar3.YdLidarX4(port, 12000) \n",
    "\n",
    "# To use with csv file instead of LIDAR sensor, make sure \n",
    "# there is a folder called data in the same working directory\n",
    "# and there is a CSV file called \"data.csv\" in that folder\n",
    "\n",
    "with open('./data/data.csv') as lidarData:\n",
    "    lidar_reader = csv.reader(lidarData)\n",
    "        \n",
    "    for point in lidar_reader:\n",
    "        distance.append(np.uint32(point[1]))"
   ]
  },
  {
   "cell_type": "code",
   "execution_count": 2,
   "id": "d9b58a86",
   "metadata": {},
   "outputs": [],
   "source": [
    "#if(Obj.Connect()):\n",
    "#    print(Obj.GetDeviceInfo())\n",
    "#else:\n",
    "#    print(\"Error connecting to device\")"
   ]
  },
  {
   "cell_type": "code",
   "execution_count": 3,
   "id": "c7a64ce3",
   "metadata": {
    "scrolled": true
   },
   "outputs": [],
   "source": [
    "#gen = Obj.StartScanning()\n",
    "#data = next(gen)\n",
    "#for points in data:\n",
    "#    distance.append(data[points])\n",
    "#print(distance)\n",
    "#Obj.StopScanning()"
   ]
  },
  {
   "cell_type": "code",
   "execution_count": 4,
   "id": "7e572c5a",
   "metadata": {},
   "outputs": [],
   "source": [
    "#Obj.Disconnect()"
   ]
  },
  {
   "cell_type": "code",
   "execution_count": 5,
   "id": "ae672bae",
   "metadata": {},
   "outputs": [],
   "source": [
    "#Processes the raw data into objects, removes noise\n",
    "def clusterOp(angle, distance, D_th = 100, minGroupSize = 4):\n",
    "    objects = []\n",
    "    grouped = set()\n",
    "\n",
    "    for point in range(0,360):\n",
    "\n",
    "        #If point has already been grouped move onto the next point\n",
    "        if point in grouped:\n",
    "            continue\n",
    "\n",
    "        cluster = set()\n",
    "        cluster.add(point)\n",
    "\n",
    "        #Test in counter clockwise direction\n",
    "        for i in range(0,360):\n",
    "            dTheta = angle[i] - angle[point]\n",
    "            d1 = distance[point]\n",
    "            d2 = distance[i]\n",
    "            d3 = math.sqrt(d1**2 + d2**2 - 2*d1*d2*math.cos(dTheta))\n",
    "\n",
    "            \n",
    "            if d3 < D_th:\n",
    "                cluster.add(i)\n",
    "                grouped.add(i)\n",
    "                point = i\n",
    "\n",
    "        if len(cluster) >= minGroupSize:\n",
    "            objects.append(cluster)\n",
    "\n",
    "    return objects"
   ]
  },
  {
   "cell_type": "code",
   "execution_count": 6,
   "id": "9949ee13",
   "metadata": {},
   "outputs": [],
   "source": [
    "ol.clusterOp2_0.register_map\n",
    "dma = ol.axi_dma\n",
    "input_buffer = allocate(shape=(360,), dtype = np.int32)\n",
    "np.copyto(input_buffer, distance)\n",
    "output_buffer = allocate(shape=(380,), dtype=np.int32)\n",
    "#print(input_buffer)"
   ]
  },
  {
   "cell_type": "code",
   "execution_count": 7,
   "id": "c19c0764",
   "metadata": {},
   "outputs": [
    {
     "name": "stdout",
     "output_type": "stream",
     "text": [
      "0.010261774063110352\n",
      "[[1, 2, 3, 4, 5, 6, 7, 8, 10, 12, 13, 14, 15, 16, 17, 18, 19, 20, 21, 22, 23, 24, 25, 26, 27, 28, 29, 320, 321, 334, 335, 338, 340, 342, 343, 344, 355, 357, 358, 359], [151, 160, 161, 162, 163, 164, 165, 174, 175, 189, 199, 200, 201, 202, 204, 205], [206, 207, 208, 209, 210, 211, 212, 213, 214, 215, 216, 218, 219, 220, 221, 222, 223, 224, 225, 226, 227, 228, 229, 230, 231, 232, 233, 234, 235, 236, 237, 238, 239, 240, 241, 242, 276, 277, 278, 339, 356], [245, 246, 247, 248, 249, 250, 251, 252, 253, 254, 255, 256, 257, 258, 259, 260, 261, 262, 263, 264, 265, 266, 267, 268, 269, 270, 271], [273, 274, 275, 284, 285, 286, 287, 288, 289, 290, 291, 292, 293, 0, 0, 0, 0, 0, 0, 0, 0, 0, 0, 0, 0, 0, 0, 0, 0, 0, 0, 0, 0, 0, 0, 0, 0, 0, 0, 0, 0, 0, 0, 0, 0, 0, 0, 0, 0, 0, 0, 0, 0, 0, 0, 0, 0, 0, 0, 0, 0, 0, 0, 0, 0, 0, 0, 0, 0, 0, 0, 0, 0, 0, 0, 0, 0, 0, 0, 0, 0, 0, 0, 0, 0, 0, 0, 0, 0, 0, 0, 0, 0, 0, 0, 0, 0, 0, 0, 0, 0, 0, 0, 0, 0, 0, 0, 0, 0, 0, 0, 0, 0, 0, 0, 0, 0, 0, 0, 0, 0, 0, 0, 0, 0, 0, 0, 0, 0, 0, 0, 0, 0, 0, 0, 0, 0, 0, 0, 0, 0, 0, 0, 0, 0, 0, 0, 0, 0, 0, 0, 0, 0, 0, 0, 0, 0, 0, 0, 0, 0, 0, 0, 0, 0, 0, 0, 0, 0, 0, 0, 0, 0, 0, 0, 0, 0, 0, 0, 0, 0, 0, 0, 0, 0, 0, 0, 0, 0, 0, 0, 0, 0, 0, 0, 0, 0, 0, 0, 0, 0, 0, 0, 0, 0, 0, 0, 0, 0, 0, 0, 0, 0, 0, 0, 0, 0, 0, 0, 0, 0, 0, 0, 0, 0, 0, 0, 0, 0, 0, 0, 0, 0, 0, 0, 0, 0, 0, 0, 0, 0, 0, 0, 0, 0, 0, 0, 0, 0, 0, 0]]\n"
     ]
    }
   ],
   "source": [
    "start = time.time()\n",
    "\n",
    "CONTROL_REGISTER = 0x0\n",
    "ol.clusterOp2_0.write(CONTROL_REGISTER, 0x81) # 0x81 will set bit 0\n",
    "\n",
    "dma.sendchannel.transfer(input_buffer)\n",
    "dma.sendchannel.wait()\n",
    "dma.recvchannel.transfer(output_buffer)\n",
    "\n",
    "clusterOp_data = output_buffer\n",
    "\n",
    "del input_buffer, output_buffer\n",
    "\n",
    "cluster_n = []  # initialize empty list for first cluster\n",
    "clusters = []  # initialize list to hold all clusters\n",
    "\n",
    "for value in clusterOp_data:\n",
    "    if value == 720:\n",
    "        if cluster_n:  # check if cluster_n already has values\n",
    "            clusters.append(cluster_n)  # if so, add it to clusters\n",
    "            cluster_n = []  # reset cluster_n to empty list\n",
    "    else:\n",
    "        cluster_n.append(value)  # add value to current cluster\n",
    "\n",
    "if cluster_n:  # handle the last cluster after the loop ends\n",
    "    clusters.append(cluster_n)\n",
    "    \n",
    "end = time.time()\n",
    "\n",
    "print(end-start)\n",
    "\n",
    "print(clusters)  # display all clusters\n",
    "    "
   ]
  },
  {
   "cell_type": "code",
   "execution_count": 8,
   "id": "990455e9",
   "metadata": {},
   "outputs": [
    {
     "name": "stdout",
     "output_type": "stream",
     "text": [
      "28.064834117889404\n",
      "[{11, 279, 280, 281, 282, 283, 157, 158, 159, 294, 295, 296, 297, 298, 299, 300, 301, 302, 303, 304, 305, 306, 307, 308, 309, 310, 311, 312, 313, 314, 315, 316, 317, 190, 191, 192, 193, 194, 195, 196, 197, 198, 318, 319, 73, 341, 217, 345, 346, 347, 348, 349, 350, 351, 352, 353, 354, 243}, {226, 163, 12, 207}, {226, 163, 12, 207, 213}, {218, 212, 149, 231}, {226, 163, 232, 12, 207}, {209, 234, 228, 165}, {226, 163, 12, 207, 276}, {205, 224, 4, 293}]\n"
     ]
    }
   ],
   "source": [
    "start = time.time()\n",
    "clusters = clusterOp(angle, distance)\n",
    "end = time.time()\n",
    "print(end-start)\n",
    "print(clusters)  # display all clusters\n"
   ]
  }
 ],
 "metadata": {
  "celltoolbar": "Raw Cell Format",
  "kernelspec": {
   "display_name": "Python 3 (ipykernel)",
   "language": "python",
   "name": "python3"
  },
  "language_info": {
   "codemirror_mode": {
    "name": "ipython",
    "version": 3
   },
   "file_extension": ".py",
   "mimetype": "text/x-python",
   "name": "python",
   "nbconvert_exporter": "python",
   "pygments_lexer": "ipython3",
   "version": "3.10.4"
  }
 },
 "nbformat": 4,
 "nbformat_minor": 5
}
