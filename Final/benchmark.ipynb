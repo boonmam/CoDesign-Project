{
 "cells": [
  {
   "cell_type": "code",
   "execution_count": 1,
   "id": "6442ef00",
   "metadata": {},
   "outputs": [
    {
     "data": {
      "application/javascript": [
       "\n",
       "try {\n",
       "require(['notebook/js/codecell'], function(codecell) {\n",
       "  codecell.CodeCell.options_default.highlight_modes[\n",
       "      'magic_text/x-csrc'] = {'reg':[/^%%microblaze/]};\n",
       "  Jupyter.notebook.events.one('kernel_ready.Kernel', function(){\n",
       "      Jupyter.notebook.get_cells().map(function(cell){\n",
       "          if (cell.cell_type == 'code'){ cell.auto_highlight(); } }) ;\n",
       "  });\n",
       "});\n",
       "} catch (e) {};\n"
      ]
     },
     "metadata": {},
     "output_type": "display_data"
    },
    {
     "data": {
      "application/javascript": [
       "\n",
       "try {\n",
       "require(['notebook/js/codecell'], function(codecell) {\n",
       "  codecell.CodeCell.options_default.highlight_modes[\n",
       "      'magic_text/x-csrc'] = {'reg':[/^%%pybind11/]};\n",
       "  Jupyter.notebook.events.one('kernel_ready.Kernel', function(){\n",
       "      Jupyter.notebook.get_cells().map(function(cell){\n",
       "          if (cell.cell_type == 'code'){ cell.auto_highlight(); } }) ;\n",
       "  });\n",
       "});\n",
       "} catch (e) {};\n"
      ]
     },
     "metadata": {},
     "output_type": "display_data"
    }
   ],
   "source": [
    "import PyLidar3\n",
    "import os\n",
    "import re\n",
    "import csv\n",
    "import math\n",
    "import numpy as np\n",
    "from pynq import allocate\n",
    "from pynq import Overlay\n",
    "import matplotlib.pyplot as plt\n",
    "import matplotlib.lines as mlines\n",
    "import time\n",
    "\n",
    "ol = Overlay('/home/xilinx/pynq/overlays/clusterOp2/clusterOp2.bit')\n",
    "\n",
    "angle = np.arange(0, 360)\n",
    "\n",
    "port = \"/dev/ttyUSB0\" #linux\n",
    "Obj = PyLidar3.YdLidarX4(port, 12000) \n",
    "\n",
    "# To use with csv file instead of LIDAR sensor, make sure \n",
    "# there is a folder called data in the same working directory\n",
    "# and there is a CSV file called \"data.csv\" in that folder\n",
    "\n",
    "#with open('./data/data.csv') as lidarData:\n",
    "#    lidar_reader = csv.reader(lidarData)\n",
    "#        \n",
    "#    for point in lidar_reader:\n",
    "#        distance.append(np.uint32(point[1]))"
   ]
  },
  {
   "cell_type": "code",
   "execution_count": 2,
   "id": "d9b58a86",
   "metadata": {},
   "outputs": [
    {
     "name": "stdout",
     "output_type": "stream",
     "text": [
      "{'model_number': '6', 'firmware_version': '1.5', 'hardware_version': '1', 'serial_number': '201904120'}\n"
     ]
    }
   ],
   "source": [
    "if(Obj.Connect()):\n",
    "    print(Obj.GetDeviceInfo())\n",
    "else:\n",
    "    print(\"Error connecting to device\")"
   ]
  },
  {
   "cell_type": "code",
   "execution_count": 3,
   "id": "c7a64ce3",
   "metadata": {
    "scrolled": true
   },
   "outputs": [],
   "source": [
    "gen = Obj.StartScanning()\n",
    "data = next(gen)\n",
    "distance = []\n",
    "for points in data:\n",
    "    distance.append(data[points])\n",
    "#print(distance)\n",
    "Obj.StopScanning()"
   ]
  },
  {
   "cell_type": "code",
   "execution_count": 4,
   "id": "7e572c5a",
   "metadata": {},
   "outputs": [],
   "source": [
    "Obj.Disconnect()"
   ]
  },
  {
   "cell_type": "code",
   "execution_count": 5,
   "id": "ae672bae",
   "metadata": {},
   "outputs": [],
   "source": [
    "#Processes the raw data into objects, removes noise\n",
    "def clusterOp(angle, distance, D_th = 100, minGroupSize = 4):\n",
    "    objects = []\n",
    "    grouped = set()\n",
    "\n",
    "    for point in range(0,360):\n",
    "\n",
    "        #If point has already been grouped move onto the next point\n",
    "        if point in grouped:\n",
    "            continue\n",
    "\n",
    "        cluster = set()\n",
    "        cluster.add(point)\n",
    "\n",
    "        #Test in counter clockwise direction\n",
    "        for i in range(0,360):\n",
    "            dTheta = angle[i] - angle[point]\n",
    "            d1 = distance[point]\n",
    "            d2 = distance[i]\n",
    "            d3 = math.sqrt(d1**2 + d2**2 - 2*d1*d2*math.cos(dTheta))\n",
    "\n",
    "            \n",
    "            if d3 < D_th:\n",
    "                cluster.add(i)\n",
    "                grouped.add(i)\n",
    "                point = i\n",
    "\n",
    "        if len(cluster) >= minGroupSize:\n",
    "            objects.append(cluster)\n",
    "\n",
    "    return objects"
   ]
  },
  {
   "cell_type": "code",
   "execution_count": 6,
   "id": "9949ee13",
   "metadata": {},
   "outputs": [],
   "source": [
    "ol.clusterOp2_0.register_map\n",
    "dma = ol.axi_dma\n",
    "input_buffer = allocate(shape=(360,), dtype = np.int32)\n",
    "np.copyto(input_buffer, distance)\n",
    "output_buffer = allocate(shape=(380,), dtype=np.int32)\n",
    "#print(input_buffer)"
   ]
  },
  {
   "cell_type": "code",
   "execution_count": 7,
   "id": "c19c0764",
   "metadata": {},
   "outputs": [
    {
     "name": "stdout",
     "output_type": "stream",
     "text": [
      "0.010308980941772461\n",
      "[[1, 2, 3, 6, 7, 9, 11, 12, 13, 14, 15, 16, 17, 18, 19, 20, 22, 23, 341, 342, 343, 344, 345, 346, 347, 348, 350, 351, 352, 353, 354, 355, 356, 357, 358, 359], [25, 27, 28, 29, 30, 31, 32, 33, 34, 37, 40, 53], [38, 39, 41, 42, 43, 44, 45, 46, 47, 48, 49, 50, 51, 52], [55, 56, 57, 58, 59, 61, 62, 63, 64, 65, 66, 67, 68, 69, 70, 71, 72], [81, 88, 91, 92, 97, 99, 100, 101, 102, 103, 104, 105, 106, 107, 108, 109, 110, 111, 112, 113, 114, 115, 117, 120, 122, 123, 124, 125, 126, 128, 129, 130, 131, 132, 133, 134, 135, 136, 137, 138, 139, 140, 141, 142, 143, 144, 145, 146, 147, 148, 149, 150, 151, 152, 153, 154, 155, 156, 157, 158, 159, 160, 161, 162, 163, 164, 165, 166, 167, 168, 171, 174], [170, 172, 173, 175, 176, 177, 178, 179, 180, 181, 182, 183, 184, 185, 186, 187, 188, 189, 190, 191, 192, 193, 194, 195, 196, 197, 198, 199, 200, 201, 202, 203, 204, 205, 206, 207, 208, 209, 210, 211, 212, 213, 214, 215, 216, 217, 218, 219, 220, 221, 222, 223, 224, 225, 227, 228, 229, 230, 231, 232, 233, 234, 235, 236, 237, 238, 239, 240, 241, 249, 250, 251, 252, 253, 257, 258, 259, 265, 267, 273, 0, 0, 0, 0, 0, 0, 0, 0, 0, 0, 0, 0, 0, 0, 0, 0, 0, 0, 0, 0, 0, 0, 0, 0, 0, 0, 0, 0, 0, 0, 0, 0, 0, 0, 0, 0, 0, 0, 0, 0, 0, 0, 0, 0, 0, 0, 0, 0, 0, 0, 0, 0, 0, 0, 0, 0, 0, 0, 0, 0, 0, 0, 0, 0, 0, 0, 0, 0, 0, 0, 0, 0, 0, 0, 0, 0, 0, 0, 0, 0, 0, 0, 0, 0, 0, 0, 0, 0, 0, 0, 0, 0, 0, 0, 0, 0, 0, 0, 0, 0, 0, 0, 0, 0, 0, 0, 0, 0, 0, 0, 0, 0, 0, 0, 0, 0, 0, 0, 0, 0, 0, 0, 0, 0, 0, 0, 0, 0, 0, 0, 0, 0, 0, 0, 0, 0, 0, 0, 0, 0, 0, 0, 0]]\n"
     ]
    }
   ],
   "source": [
    "start = time.time()\n",
    "\n",
    "CONTROL_REGISTER = 0x0\n",
    "ol.clusterOp2_0.write(CONTROL_REGISTER, 0x81) # 0x81 will set bit 0\n",
    "\n",
    "dma.sendchannel.transfer(input_buffer)\n",
    "dma.sendchannel.wait()\n",
    "dma.recvchannel.transfer(output_buffer)\n",
    "\n",
    "clusterOp_data = output_buffer\n",
    "\n",
    "del input_buffer, output_buffer\n",
    "\n",
    "cluster_n = []  # initialize empty list for first cluster\n",
    "clusters = []  # initialize list to hold all clusters\n",
    "\n",
    "for value in clusterOp_data:\n",
    "    if value == 720:\n",
    "        if cluster_n:  # check if cluster_n already has values\n",
    "            clusters.append(cluster_n)  # if so, add it to clusters\n",
    "            cluster_n = []  # reset cluster_n to empty list\n",
    "    else:\n",
    "        cluster_n.append(value)  # add value to current cluster\n",
    "\n",
    "if cluster_n:  # handle the last cluster after the loop ends\n",
    "    clusters.append(cluster_n)\n",
    "    \n",
    "end = time.time()\n",
    "\n",
    "print(end-start)\n",
    "\n",
    "print(clusters)  # display all clusters\n",
    "    "
   ]
  },
  {
   "cell_type": "code",
   "execution_count": 8,
   "id": "990455e9",
   "metadata": {},
   "outputs": [
    {
     "name": "stdout",
     "output_type": "stream",
     "text": [
      "1.7361619472503662\n",
      "[{224, 4, 230, 199, 136, 236, 174, 180, 155}, {165, 8, 265, 202, 171, 177, 115, 183, 159}, {129, 35, 167, 104, 10, 205, 79, 148, 186}, {96, 128, 98, 122, 78, 241, 116, 253, 90, 93, 95}, {257, 194, 169, 238, 81, 188, 125}, {170, 107, 208, 151, 88, 189}, {224, 230, 199, 136, 236, 174, 180, 155, 92}, {256, 226, 100, 264, 269, 270, 242, 243, 244, 254, 246, 247, 248, 94, 255}, {128, 97, 103, 109, 241, 122, 253}, {224, 99, 230, 199, 105, 236, 111, 180, 117}, {120, 101, 126, 239}, {209, 146, 190, 102}, {257, 194, 169, 106, 238, 188, 125}, {265, 202, 108, 177, 114, 183}, {128, 97, 103, 109, 110, 241, 122, 253}, {257, 194, 238, 175, 112, 156}, {257, 194, 238, 113, 182, 188}, {96, 128, 98, 122, 78, 241, 116, 118, 253, 90, 93, 95}, {96, 128, 98, 122, 78, 241, 116, 119, 253, 90, 93, 95}, {96, 128, 98, 122, 78, 241, 116, 121, 90, 93, 253, 95}, {128, 98, 241, 116, 122, 123, 253}, {224, 99, 230, 199, 105, 236, 111, 180, 117, 124}, {96, 128, 98, 122, 78, 241, 116, 253, 90, 127, 93, 95}, {224, 130, 230, 199, 168, 236, 174, 180, 149}, {257, 194, 131, 169, 238, 150, 188}, {265, 202, 139, 177, 183, 158}, {185, 204, 141, 166}, {129, 35, 167, 104, 10, 205, 142, 79, 148, 186}, {231, 237, 206, 143, 187}, {257, 194, 169, 238, 144, 81, 188, 125}, {164, 265, 202, 145, 183}, {185, 147, 204, 166}, {265, 202, 171, 177, 183, 152}, {153, 210, 172, 191}, {154, 91, 204, 135}, {170, 107, 208, 189, 151, 88, 157}, {160, 91, 204, 135}, {161, 129, 35, 167, 104, 10, 205, 79, 148, 186}, {257, 194, 162, 238, 175, 112, 156}, {257, 194, 163, 169, 238, 144, 188}, {129, 35, 167, 104, 173, 205, 79, 148, 186}, {170, 107, 176, 208, 151, 88, 189}, {165, 265, 202, 171, 177, 178, 115, 183, 159}, {91, 179, 204, 135}, {257, 194, 238, 175, 112, 181, 156}, {192, 129, 35, 167, 104, 10, 205, 79, 148, 186}, {224, 193, 230, 199, 168, 236, 174, 180, 149}, {195, 170, 107, 208, 151, 88, 189}, {196, 102, 209, 146, 190}, {197, 172, 210, 153, 191}, {91, 204, 198, 135}, {257, 194, 200, 238, 175, 112, 156}, {129, 35, 167, 104, 10, 205, 79, 211, 148, 186}, {231, 237, 206, 143, 212, 187}, {257, 194, 163, 169, 238, 144, 213, 188}, {170, 107, 208, 214, 151, 189}, {102, 209, 146, 215, 190}, {166, 204, 147, 216, 185}, {224, 130, 230, 199, 168, 236, 174, 180, 149, 218}, {257, 194, 131, 169, 238, 150, 219, 188}, {265, 202, 221, 133}, {129, 167, 205, 148, 186, 223}, {224, 225, 99, 230, 199, 105, 236, 111, 180, 117}, {227, 101, 239, 120, 126}, {128, 228, 109, 241, 122, 253}, {128, 97, 229, 103, 109, 241, 122, 253}, {257, 194, 232, 169, 238, 81, 188, 125}, {101, 233, 239, 120, 126}, {165, 8, 265, 234, 171, 202, 177, 115, 183, 159}, {128, 97, 103, 235, 109, 241, 122, 253}, {265, 202, 108, 240, 177, 114, 183}, {256, 226, 100, 264, 269, 270, 242, 243, 244, 245, 246, 247, 248, 254, 94, 255}, {224, 230, 199, 236, 111, 180, 117, 249}, {257, 194, 238, 175, 112, 250, 156}, {256, 226, 100, 264, 269, 270, 242, 243, 244, 254, 246, 247, 248, 251, 94, 255}, {101, 239, 120, 252, 126}, {256, 258, 226, 100, 264, 269, 270, 242, 243, 244, 254, 246, 247, 248, 94, 255}, {259, 102, 209, 146, 190}, {96, 128, 98, 261, 122, 78, 241, 116, 253, 90, 93, 95}, {224, 130, 262, 199, 168, 230, 236, 174, 180, 149}, {91, 267, 204, 135}, {128, 97, 103, 109, 273, 241, 122, 253}]\n"
     ]
    }
   ],
   "source": [
    "start = time.time()\n",
    "clusters = clusterOp(angle, distance)\n",
    "end = time.time()\n",
    "print(end-start)\n",
    "print(clusters)  # display all clusters\n"
   ]
  }
 ],
 "metadata": {
  "celltoolbar": "Raw Cell Format",
  "kernelspec": {
   "display_name": "Python 3 (ipykernel)",
   "language": "python",
   "name": "python3"
  },
  "language_info": {
   "codemirror_mode": {
    "name": "ipython",
    "version": 3
   },
   "file_extension": ".py",
   "mimetype": "text/x-python",
   "name": "python",
   "nbconvert_exporter": "python",
   "pygments_lexer": "ipython3",
   "version": "3.10.4"
  }
 },
 "nbformat": 4,
 "nbformat_minor": 5
}
