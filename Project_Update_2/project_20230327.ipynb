{
 "cells": [
  {
   "cell_type": "code",
   "execution_count": 1,
   "id": "6442ef00",
   "metadata": {},
   "outputs": [
    {
     "data": {
      "application/javascript": [
       "\n",
       "try {\n",
       "require(['notebook/js/codecell'], function(codecell) {\n",
       "  codecell.CodeCell.options_default.highlight_modes[\n",
       "      'magic_text/x-csrc'] = {'reg':[/^%%microblaze/]};\n",
       "  Jupyter.notebook.events.one('kernel_ready.Kernel', function(){\n",
       "      Jupyter.notebook.get_cells().map(function(cell){\n",
       "          if (cell.cell_type == 'code'){ cell.auto_highlight(); } }) ;\n",
       "  });\n",
       "});\n",
       "} catch (e) {};\n"
      ]
     },
     "metadata": {},
     "output_type": "display_data"
    },
    {
     "data": {
      "application/javascript": [
       "\n",
       "try {\n",
       "require(['notebook/js/codecell'], function(codecell) {\n",
       "  codecell.CodeCell.options_default.highlight_modes[\n",
       "      'magic_text/x-csrc'] = {'reg':[/^%%pybind11/]};\n",
       "  Jupyter.notebook.events.one('kernel_ready.Kernel', function(){\n",
       "      Jupyter.notebook.get_cells().map(function(cell){\n",
       "          if (cell.cell_type == 'code'){ cell.auto_highlight(); } }) ;\n",
       "  });\n",
       "});\n",
       "} catch (e) {};\n"
      ]
     },
     "metadata": {},
     "output_type": "display_data"
    }
   ],
   "source": [
    "import os\n",
    "import csv\n",
    "import numpy as np\n",
    "from pynq import allocate\n",
    "from pynq import Overlay\n",
    "\n",
    "ol = Overlay('/home/xilinx/pynq/overlays/clusterOp/clusterOp.bit')\n",
    "\n",
    "distance = []\n",
    "\n",
    "with open('./data/data.csv') as lidarData:\n",
    "    lidar_reader = csv.reader(lidarData)\n",
    "        \n",
    "    for point in lidar_reader:\n",
    "        distance.append(np.uint32(point[1]))"
   ]
  },
  {
   "cell_type": "code",
   "execution_count": 2,
   "id": "c01a52e2",
   "metadata": {},
   "outputs": [
    {
     "name": "stdout",
     "output_type": "stream",
     "text": [
      "[785, 1022, 811, 360, 531, 862, 1305, 1236, 912, 1387, 481, 60, 431, 632, 679, 724, 843, 838, 1039, 712, 869, 777, 797, 742, 698, 755, 750, 912, 834, 1082, 1393, 1266, 1582, 2049, 1716, 2040, 2063, 2433, 2278, 3815, 3777, 3466, 3297, 3868, 3794, 2497, 1101, 3486, 3411, 3343, 3266, 3240, 3268, 3295, 3380, 2322, 2935, 2936, 2920, 2901, 2043, 2692, 1945, 2584, 2599, 2671, 2735, 2744, 2721, 2699, 1041, 2790, 1972, 0, 3122, 3133, 1564, 1368, 3315, 1698, 3418, 3407, 1399, 2934, 3806, 3784, 3763, 3766, 3752, 3748, 3737, 3733, 3726, 3153, 547, 3723, 3723, 2369, 1570, 3519, 3709, 3729, 3737, 3744, 3754, 3765, 3777, 3792, 3803, 3816, 3828, 3837, 3855, 3872, 3891, 3953, 3967, 4014, 4032, 4037, 4070, 4103, 4179, 2850, 3456, 4136, 4106, 3846, 2541, 1388, 2045, 2156, 2974, 1456, 1120, 1550, 1682, 1923, 1997, 1682, 1991, 2885, 2777, 2415, 1831, 1775, 1725, 1760, 514, 416, 665, 842, 2593, 2442, 2316, 2234, 1272, 0, 0, 0, 724, 787, 765, 410, 952, 474, 2422, 1927, 1727, 1519, 2022, 2727, 2723, 1216, 659, 760, 1474, 2569, 1780, 1523, 1868, 2529, 1670, 1836, 3181, 1824, 3001, 1133, 2443, 805, 0, 0, 0, 0, 0, 0, 0, 0, 0, 271, 289, 518, 529, 235, 473, 459, 450, 445, 440, 437, 433, 431, 431, 430, 430, 432, 436, 79, 484, 482, 479, 476, 474, 474, 473, 474, 475, 477, 480, 485, 491, 498, 508, 518, 534, 546, 564, 579, 598, 613, 632, 649, 270, 0, 1184, 1172, 1160, 1150, 1140, 1129, 1125, 1116, 1107, 1099, 1090, 1083, 1075, 1068, 1063, 1056, 1051, 1045, 1040, 1036, 1032, 1029, 1026, 1022, 1020, 1014, 1012, 1012, 1011, 1011, 1011, 619, 402, 387, 285, 0, 0, 0, 0, 0, 898, 966, 646, 794, 1042, 1047, 1053, 1059, 889, 580, 0, 0, 0, 0, 0, 0, 0, 0, 0, 0, 0, 0, 0, 0, 0, 0, 0, 0, 0, 0, 0, 0, 0, 0, 0, 0, 585, 658, 940, 954, 1605, 1632, 1645, 1773, 1859, 1864, 1950, 1994, 2069, 1222, 885, 544, 2017, 1809, 1083, 201, 997, 0, 297, 748, 644, 0, 0, 0, 0, 65, 0, 0, 0, 0, 0, 310, 155, 712, 983, 1190]\n"
     ]
    }
   ],
   "source": [
    "print(distance)"
   ]
  },
  {
   "cell_type": "code",
   "execution_count": 3,
   "id": "f0c85207",
   "metadata": {},
   "outputs": [
    {
     "data": {
      "text/plain": [
       "RegisterMap {\n",
       "  CTRL = Register(AP_START=0, AP_DONE=0, AP_IDLE=1, AP_READY=0, RESERVED_1=0, AUTO_RESTART=0, RESERVED_2=0, INTERRUPT=0, RESERVED_3=0),\n",
       "  GIER = Register(Enable=0, RESERVED=0),\n",
       "  IP_IER = Register(CHAN0_INT_EN=0, CHAN1_INT_EN=0, RESERVED_0=0),\n",
       "  IP_ISR = Register(CHAN0_INT_ST=0, CHAN1_INT_ST=0, RESERVED_0=0)\n",
       "}"
      ]
     },
     "execution_count": 3,
     "metadata": {},
     "output_type": "execute_result"
    }
   ],
   "source": [
    "ol.clusterOp_0.register_map"
   ]
  },
  {
   "cell_type": "code",
   "execution_count": 4,
   "id": "bbdb14a4",
   "metadata": {},
   "outputs": [],
   "source": [
    "CONTROL_REGISTER = 0x0\n",
    "ol.clusterOp_0.write(CONTROL_REGISTER, 0x81) # 0x81 will set bit 0"
   ]
  },
  {
   "cell_type": "code",
   "execution_count": 5,
   "id": "9949ee13",
   "metadata": {},
   "outputs": [],
   "source": [
    "dma = ol.axi_dma\n",
    "input_buffer = allocate(shape=(360,), dtype = np.uint32)\n",
    "np.copyto(input_buffer, distance)\n",
    "clusters = allocate(shape=(360,), dtype=np.uint32)\n",
    "#print(input_buffer)"
   ]
  },
  {
   "cell_type": "code",
   "execution_count": 6,
   "id": "335fbf99",
   "metadata": {},
   "outputs": [],
   "source": [
    "ol.clusterOp_0.write(CONTROL_REGISTER, 0x81)"
   ]
  },
  {
   "cell_type": "code",
   "execution_count": 7,
   "id": "e333aec7",
   "metadata": {},
   "outputs": [
    {
     "name": "stdout",
     "output_type": "stream",
     "text": [
      "[0 0 0 0 0 0 0 0 0 0 0 0 22 23 24 25 26 27 28 150 151 160 161 162 175 189\n",
      " 240 241 275 284 285 286 287 292 321 322 323 334 343 344 357 358 1 18 29\n",
      " 46 70 134 164 245 246 247 248 249 250 251 252 253 254 255 256 257 258 259\n",
      " 260 261 262 263 264 265 266 267 268 269 270 271 272 273 274 288 289 290\n",
      " 291 338 340 359 3 4 10 12 149 163 165 199 200 204 205 206 207 208 209 210\n",
      " 211 212 213 214 215 216 218 219 220 221 222 223 224 225 226 227 228 229\n",
      " 230 231 232 242 276 277 278 335 339 342 355 6 7 9 30 31 77 82 129 133 156\n",
      " 173 244 333 11 73 157 158 159 190 191 192 193 194 195 196 197 198 217 243\n",
      " 279 280 281 282 283 294 295 296 297 298 299 300 301 302 303 304 305 306\n",
      " 307 308 309 310 311 312 313 314 315 316 317 318 319 341 345 346 347 348\n",
      " 349 350 351 352 353 354 356 32 34 76 79 98 135 136 139 146 168 169 176\n",
      " 179 182 324 325 326 33 35 36 60 62 72 130 131 137 138 140 167 170 329 330\n",
      " 331 332 336 37 38 45 55 63 64 97 128 143 152 153 154 166 177 181 188 39\n",
      " 40 43 44 84 85 86 87 88 89 90 91 92 95 96 100 101 102 103 104 105 106 107\n",
      " 108 109 110 111 112 113 114 115 116 127 41 42 47 48 49 52 53 54 78 80 81\n",
      " 99 124 50 51 74 75 93 184 56 57 58 59 67 71 83 123 132 141 142 186 61 65\n",
      " 66 68 69 171 172 94 148 174 201 202 233 234 235 236 237 238 239 293 320\n",
      " 117 118 119 120 121 122 125 126 144 145 147 178 180 183 185 327 328 337\n",
      " 155 187 203]\n"
     ]
    }
   ],
   "source": [
    "dma.sendchannel.transfer(input_buffer)\n",
    "dma.sendchannel.wait()\n",
    "dma.recvchannel.transfer(clusters)\n",
    "print(clusters)"
   ]
  },
  {
   "cell_type": "code",
   "execution_count": null,
   "id": "a60b7132",
   "metadata": {},
   "outputs": [],
   "source": []
  }
 ],
 "metadata": {
  "kernelspec": {
   "display_name": "Python 3 (ipykernel)",
   "language": "python",
   "name": "python3"
  },
  "language_info": {
   "codemirror_mode": {
    "name": "ipython",
    "version": 3
   },
   "file_extension": ".py",
   "mimetype": "text/x-python",
   "name": "python",
   "nbconvert_exporter": "python",
   "pygments_lexer": "ipython3",
   "version": "3.10.4"
  }
 },
 "nbformat": 4,
 "nbformat_minor": 5
}
